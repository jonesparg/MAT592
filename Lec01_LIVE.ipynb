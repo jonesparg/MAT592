{
  "cells": [
    {
      "cell_type": "markdown",
      "metadata": {
        "id": "view-in-github",
        "colab_type": "text"
      },
      "source": [
        "<a href=\"https://colab.research.google.com/github/jonesparg/MAT592/blob/main/Lec01_LIVE.ipynb\" target=\"_parent\"><img src=\"https://colab.research.google.com/assets/colab-badge.svg\" alt=\"Open In Colab\"/></a>"
      ]
    },
    {
      "cell_type": "markdown",
      "metadata": {
        "id": "73L5ojjGI1EF"
      },
      "source": [
        "# Lecture 1 Live Exercises\n",
        "\n",
        "## Lecture 1 Recap\n",
        "\n",
        "In Lecture 1 we talked about\n",
        "\n",
        "- Variable Assignment, which is an example of a **definition**\n",
        "- Arithmetical Commands, which are examples of **commands**\n",
        "    - Addition ``+``\n",
        "    - Subtraction ``-``\n",
        "    - Multiplication ``*``\n",
        "    - Division ``/``\n",
        "    - Exponentiation ``**``\n",
        "- The `print` command\n",
        "- Object Types and type conversion\n",
        "    - ``int``\n",
        "    - ``float``\n",
        "    - ``bool``\n",
        "    - ``None``\n",
        "- Overloading\n",
        "- Defining functions\n",
        "- The `input` function"
      ]
    },
    {
      "cell_type": "markdown",
      "metadata": {
        "id": "1RnCW3zrI1EI"
      },
      "source": [
        "## Conceptual Questions\n",
        "\n",
        "### Q1: Python Programs\n",
        "\n",
        "What is a program? What makes a Python program special?\n",
        "\n",
        "A program is a set of definitions and instructions, written in a code that can be deciphered and executed by a computer.  Specifically a python script can be executed by a computer with python installed.\n",
        "\n",
        "I'm not sure what makes a Python program extra special - as opposed to something written in R or other scripting language such as Perl.  Python is better at handling large datasets than, for example, R, and it also has a number of very useful open source packages, though is not unique in this regard, since R shares this feature. "
      ]
    },
    {
      "cell_type": "code",
      "execution_count": null,
      "metadata": {
        "colab": {
          "base_uri": "https://localhost:8080/"
        },
        "id": "mklVtkkJI1EI",
        "outputId": "18ab624f-160e-42d2-b893-b3d41e617038"
      },
      "outputs": [
        {
          "output_type": "stream",
          "name": "stdout",
          "text": [
            "103\n"
          ]
        }
      ],
      "source": [
        "apple=24\n",
        "banana=34\n",
        "cat=45\n",
        "dog=apple+banana+cat\n",
        "print(dog)"
      ]
    },
    {
      "cell_type": "markdown",
      "metadata": {
        "id": "ZR-j2z5WI1EK"
      },
      "source": [
        "### Q2: Overloading\n",
        "\n",
        "Explain the concept of overloading.\n",
        "\n",
        "\n",
        "As an example the \"*\" operator will perform multiplication on two numbers, merge two lists, or concatenate two strings. Overloading is a feature specific to Python (well, it's not a feature of R) that allows the same operators to have context/usage based meaning.  I'm not sure if that is a good thing or a bad thing actually.  See below.\n"
      ]
    },
    {
      "cell_type": "code",
      "execution_count": null,
      "metadata": {
        "colab": {
          "base_uri": "https://localhost:8080/",
          "height": 35
        },
        "id": "j2XHZtwhI1EK",
        "outputId": "9acdef33-8d57-455d-83b0-0f423f9e639c"
      },
      "outputs": [
        {
          "output_type": "execute_result",
          "data": {
            "text/plain": [
              "'wowwow'"
            ],
            "application/vnd.google.colaboratory.intrinsic+json": {
              "type": "string"
            }
          },
          "metadata": {},
          "execution_count": 2
        }
      ],
      "source": [
        "2*'wow'"
      ]
    },
    {
      "cell_type": "markdown",
      "metadata": {
        "id": "EDlTMlQEI1EL"
      },
      "source": [
        "## Coding Practice \n",
        "\n",
        "### Q1: Variable Assignments and Print Function\n",
        "\n",
        "Assign number 3 and 17 to variables, x and y. Use the print function and variables x and y to print \"The sum of 3 and 17 is 20.\"  "
      ]
    },
    {
      "cell_type": "code",
      "execution_count": 2,
      "metadata": {
        "id": "WhU3oZ8KI1EL",
        "colab": {
          "base_uri": "https://localhost:8080/"
        },
        "outputId": "cf2dd965-6424-4818-cfe1-180f9f50200f"
      },
      "outputs": [
        {
          "output_type": "stream",
          "name": "stdout",
          "text": [
            "The sum of 3 and 17 is 20\n"
          ]
        }
      ],
      "source": [
        "x = 3\n",
        "y = 17\n",
        "print(\"The sum of 3 and 17 is\", x + y)"
      ]
    },
    {
      "cell_type": "markdown",
      "metadata": {
        "id": "Q1qZaROoI1EM"
      },
      "source": [
        "### Q2: The Input Function \n",
        "#### Part A\n",
        "Write a program that uses the `input` function to take in two numbers $b,h$ as the base and height of a right triangle, and computes the area of that triangle. "
      ]
    },
    {
      "cell_type": "markdown",
      "source": [
        ""
      ],
      "metadata": {
        "id": "AYKrQtTQP463"
      }
    },
    {
      "cell_type": "code",
      "execution_count": 6,
      "metadata": {
        "id": "wL_kZiFlI1EN",
        "colab": {
          "base_uri": "https://localhost:8080/"
        },
        "outputId": "671816e9-5fac-4658-dd57-3d116f86b5d3"
      },
      "outputs": [
        {
          "output_type": "stream",
          "name": "stdout",
          "text": [
            "input a radius: 2\n",
            "input a height: 2\n",
            " the area of a triangle of base  2.0 and height  2.0 is  2.0 \n",
            "\n"
          ]
        }
      ],
      "source": [
        "b = float(input('input a base value: '))\n",
        "h = float(input('input a height: '))\n",
        "Area = (0.5)*b*h\n",
        "print(' the area of a triangle of base ', b, 'and height ', h, 'is ', Area, '\\n' )"
      ]
    },
    {
      "cell_type": "markdown",
      "metadata": {
        "id": "i09I-dXHI1EN"
      },
      "source": [
        "#### Part B\n",
        "\n",
        "Modify this so that the output is always an integer"
      ]
    },
    {
      "cell_type": "code",
      "execution_count": 9,
      "metadata": {
        "id": "o8Gia9TsI1EO",
        "colab": {
          "base_uri": "https://localhost:8080/"
        },
        "outputId": "2eddaea9-e53f-412e-ceef-c0e35cab5590"
      },
      "outputs": [
        {
          "output_type": "stream",
          "name": "stdout",
          "text": [
            "input a radius: 3.8888\n",
            "input a height: 2.999\n",
            " The area of a triangle of base  3.8888 and height  2.999 is  5 \n",
            "\n"
          ]
        }
      ],
      "source": [
        "b = float(input('input a base: '))\n",
        "h = float(input('input a height: '))\n",
        "Area = int((0.5)*b*h)\n",
        "print(' The area of a triangle of base ', b, 'and height ', h, 'is ', Area, '\\n' )"
      ]
    },
    {
      "cell_type": "markdown",
      "metadata": {
        "id": "lJnyCwJ9I1EO"
      },
      "source": [
        "#### Part C\n",
        "\n",
        "Rewrite Part A to use a function with a `return` statement."
      ]
    },
    {
      "cell_type": "code",
      "source": [
        ""
      ],
      "metadata": {
        "id": "jXGTAi51XQDH"
      },
      "execution_count": null,
      "outputs": []
    },
    {
      "cell_type": "code",
      "execution_count": 12,
      "metadata": {
        "id": "XIaL-BNBI1EO",
        "colab": {
          "base_uri": "https://localhost:8080/"
        },
        "outputId": "7f8e2d45-86e3-40c0-9c21-821a7b5ebcf0"
      },
      "outputs": [
        {
          "output_type": "stream",
          "name": "stdout",
          "text": [
            "Enter a base value b: 2\n",
            "Enter a height, h: 3\n",
            " The area of a triangle of base  2.0 and height  3.0 is  3.0 \n",
            "\n"
          ]
        }
      ],
      "source": [
        "def GetInput():      \n",
        "    B = float(input(\"Enter a base value b: \") )\n",
        "    H = float(input(\"Enter a height, h: \") )    \n",
        "    return B,H  \n",
        "\n",
        "def RunMe():      \n",
        "    B,H = GetInput()  \n",
        "    Area = float((0.5)*B*H)\n",
        "    print(' The area of a triangle of base ', B, 'and height ', H, 'is ', Area, '\\n' )\n",
        "\n",
        "RunMe()"
      ]
    },
    {
      "cell_type": "markdown",
      "metadata": {
        "id": "0RQjnG2mI1EP"
      },
      "source": [
        "### Q3: Converting from Fahrenheit to Celsius \n",
        "\n",
        "Write a function that converts an input temperature in Fahrenheit to Celsius."
      ]
    },
    {
      "cell_type": "code",
      "execution_count": 17,
      "metadata": {
        "id": "PeGDpEuBI1EP",
        "colab": {
          "base_uri": "https://localhost:8080/"
        },
        "outputId": "ee6b77b6-d329-47b3-a333-8ef9d7769040"
      },
      "outputs": [
        {
          "output_type": "execute_result",
          "data": {
            "text/plain": [
              "86.0"
            ]
          },
          "metadata": {},
          "execution_count": 17
        }
      ],
      "source": [
        "def MyCelsius(Val):\n",
        "  CelsVal = 1.8*Val + 32\n",
        "  return(CelsVal)\n",
        "\n",
        "Foo = MyCelsius(30)\n",
        "Foo"
      ]
    },
    {
      "cell_type": "markdown",
      "metadata": {
        "id": "Bk3CmOQvI1EP"
      },
      "source": [
        "### Q4: Arithmetic and Function Practice\n",
        "\n",
        "Write a function that takes in two numbers as arguments and finds the quotient and remainder of the first input value, divided by the second input value. Return the string \"The quotient is _. The remainder is _\"  where the blanks include your answer. "
      ]
    },
    {
      "cell_type": "code",
      "execution_count": 22,
      "metadata": {
        "id": "OMXX6sR5I1EP",
        "colab": {
          "base_uri": "https://localhost:8080/"
        },
        "outputId": "32a91a15-602e-4831-c941-edb42ecc72a8"
      },
      "outputs": [
        {
          "output_type": "stream",
          "name": "stdout",
          "text": [
            "The quotient is:  8 The remainder is:   2\n"
          ]
        }
      ],
      "source": [
        "def MyArgs(X,Y):\n",
        "  Q = X//Y\n",
        "  Rho = X%Y\n",
        "  MyResult = print(\"The quotient is: \", Q,  \"The remainder is:  \", Rho)\n",
        "  return MyResult\n",
        "\n",
        "MyArgs(26,3)"
      ]
    }
  ],
  "metadata": {
    "kernelspec": {
      "display_name": "Python 3",
      "language": "python",
      "name": "python3"
    },
    "language_info": {
      "codemirror_mode": {
        "name": "ipython",
        "version": 3
      },
      "file_extension": ".py",
      "mimetype": "text/x-python",
      "name": "python",
      "nbconvert_exporter": "python",
      "pygments_lexer": "ipython3",
      "version": "3.7.4"
    },
    "colab": {
      "name": "Lec01-LIVE.ipynb",
      "provenance": [],
      "include_colab_link": true
    }
  },
  "nbformat": 4,
  "nbformat_minor": 0
}